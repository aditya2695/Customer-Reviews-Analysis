{
 "cells": [
  {
   "cell_type": "code",
   "execution_count": 265,
   "metadata": {},
   "outputs": [
    {
     "name": "stderr",
     "output_type": "stream",
     "text": [
      "[nltk_data] Downloading package punkt to\n",
      "[nltk_data]     C:\\Users\\adity\\AppData\\Roaming\\nltk_data...\n",
      "[nltk_data]   Package punkt is already up-to-date!\n"
     ]
    },
    {
     "data": {
      "text/plain": [
       "True"
      ]
     },
     "execution_count": 265,
     "metadata": {},
     "output_type": "execute_result"
    }
   ],
   "source": [
    "import pandas as pd\n",
    "import numpy as np\n",
    "\n",
    "from sklearn import decomposition\n",
    "from sklearn.feature_extraction.text import TfidfVectorizer,CountVectorizer\n",
    "from sklearn.model_selection import train_test_split\n",
    "\n",
    "\n",
    "import matplotlib.pyplot as plt\n",
    "import seaborn as sns\n",
    "import re\n",
    "from collections import Counter\n",
    "\n",
    "#basic text manipulation libraries\n",
    "from nltk.tokenize import word_tokenize\n",
    "from nltk.tokenize import sent_tokenize\n",
    "from nltk.corpus import stopwords\n",
    "from nltk.stem import SnowballStemmer\n",
    "from nltk.stem import WordNetLemmatizer\n",
    "\n",
    "import string\n",
    "\n",
    "import gensim\n",
    "#plotting tools\n",
    "import pyLDAvis\n",
    "#import pyLDAvis.gensim #dont skip this\n",
    "\n",
    "import nltk\n",
    "\n",
    "nltk.download('punkt')"
   ]
  },
  {
   "cell_type": "code",
   "execution_count": 266,
   "metadata": {},
   "outputs": [
    {
     "data": {
      "text/html": [
       "<div>\n",
       "<style scoped>\n",
       "    .dataframe tbody tr th:only-of-type {\n",
       "        vertical-align: middle;\n",
       "    }\n",
       "\n",
       "    .dataframe tbody tr th {\n",
       "        vertical-align: top;\n",
       "    }\n",
       "\n",
       "    .dataframe thead th {\n",
       "        text-align: right;\n",
       "    }\n",
       "</style>\n",
       "<table border=\"1\" class=\"dataframe\">\n",
       "  <thead>\n",
       "    <tr style=\"text-align: right;\">\n",
       "      <th></th>\n",
       "      <th>reviews</th>\n",
       "      <th>tokens</th>\n",
       "      <th>sentiment</th>\n",
       "    </tr>\n",
       "  </thead>\n",
       "  <tbody>\n",
       "    <tr>\n",
       "      <th>0</th>\n",
       "      <td>BA cancelled my flight home to Heathrow on Dec...</td>\n",
       "      <td>['cancelled', 'home', 'heathrow', 'dec', '19th...</td>\n",
       "      <td>0</td>\n",
       "    </tr>\n",
       "    <tr>\n",
       "      <th>1</th>\n",
       "      <td>BA cancelled my flight home, the last flight o...</td>\n",
       "      <td>['cancelled', 'home', 'last', 'day', 'heathrow...</td>\n",
       "      <td>0</td>\n",
       "    </tr>\n",
       "    <tr>\n",
       "      <th>2</th>\n",
       "      <td>Turned up 3.5 hours in advance, Terminal 5 at ...</td>\n",
       "      <td>['turned', '3.5', 'hours', 'advance', 'termina...</td>\n",
       "      <td>0</td>\n",
       "    </tr>\n",
       "    <tr>\n",
       "      <th>3</th>\n",
       "      <td>Boarding – at gate at LGW they called Group 1 ...</td>\n",
       "      <td>['boarding', '–', 'gate', 'lgw', 'called', 'gr...</td>\n",
       "      <td>0</td>\n",
       "    </tr>\n",
       "    <tr>\n",
       "      <th>4</th>\n",
       "      <td>Missing baggage customer service was the worst...</td>\n",
       "      <td>['missing', 'baggage', 'customer', 'service', ...</td>\n",
       "      <td>0</td>\n",
       "    </tr>\n",
       "  </tbody>\n",
       "</table>\n",
       "</div>"
      ],
      "text/plain": [
       "                                             reviews  \\\n",
       "0  BA cancelled my flight home to Heathrow on Dec...   \n",
       "1  BA cancelled my flight home, the last flight o...   \n",
       "2  Turned up 3.5 hours in advance, Terminal 5 at ...   \n",
       "3  Boarding – at gate at LGW they called Group 1 ...   \n",
       "4  Missing baggage customer service was the worst...   \n",
       "\n",
       "                                              tokens  sentiment  \n",
       "0  ['cancelled', 'home', 'heathrow', 'dec', '19th...          0  \n",
       "1  ['cancelled', 'home', 'last', 'day', 'heathrow...          0  \n",
       "2  ['turned', '3.5', 'hours', 'advance', 'termina...          0  \n",
       "3  ['boarding', '–', 'gate', 'lgw', 'called', 'gr...          0  \n",
       "4  ['missing', 'baggage', 'customer', 'service', ...          0  "
      ]
     },
     "execution_count": 266,
     "metadata": {},
     "output_type": "execute_result"
    }
   ],
   "source": [
    "neg_reviews = pd.read_csv('data/neg_reviews.csv')\n",
    "neg_reviews.head()\n"
   ]
  },
  {
   "cell_type": "code",
   "execution_count": 267,
   "metadata": {},
   "outputs": [],
   "source": [
    "X_train,X_hold = train_test_split(neg_reviews,test_size=0.7,random_state=111)\n"
   ]
  },
  {
   "cell_type": "code",
   "execution_count": 268,
   "metadata": {},
   "outputs": [],
   "source": [
    "stemmer=SnowballStemmer(language='english')\n"
   ]
  },
  {
   "cell_type": "code",
   "execution_count": 269,
   "metadata": {},
   "outputs": [],
   "source": [
    "def tokenize(txt):\n",
    "    tokens=[word for word in nltk.word_tokenize(txt) if len(word)>3]\n",
    "    return tokens"
   ]
  },
  {
   "cell_type": "code",
   "execution_count": 270,
   "metadata": {},
   "outputs": [
    {
     "data": {
      "text/plain": [
       "['Here',\n",
       " 'real',\n",
       " 'reason',\n",
       " 'turn',\n",
       " 'aeroplane',\n",
       " 'mode',\n",
       " 'when',\n",
       " 'true',\n",
       " 'phones',\n",
       " 'dangerous',\n",
       " 'aircraft',\n",
       " 'navigation']"
      ]
     },
     "execution_count": 270,
     "metadata": {},
     "output_type": "execute_result"
    }
   ],
   "source": [
    "tokenize(txt=\"Here’s the real reason to turn on aeroplane mode when you fly Is it true our phones are dangerous for aircraft navigation?\")"
   ]
  },
  {
   "attachments": {},
   "cell_type": "markdown",
   "metadata": {},
   "source": [
    "LDA only needs count of the word and do not rquire normalized word"
   ]
  },
  {
   "cell_type": "code",
   "execution_count": 271,
   "metadata": {},
   "outputs": [],
   "source": [
    "stpwrd = nltk.corpus.stopwords.words('english')\n",
    "stpwrd.extend(string.punctuation)\n",
    "stpwrd.extend(['like','have','any','could','sister','would','said','asked','london'])"
   ]
  },
  {
   "cell_type": "code",
   "execution_count": 272,
   "metadata": {},
   "outputs": [
    {
     "name": "stderr",
     "output_type": "stream",
     "text": [
      "c:\\Users\\adity\\.conda\\envs\\env_pytorch\\lib\\site-packages\\sklearn\\feature_extraction\\text.py:404: UserWarning: Your stop_words may be inconsistent with your preprocessing. Tokenizing the stop words generated tokens ['might', 'must', 'need'] not in stop_words.\n",
      "  warnings.warn(\n"
     ]
    }
   ],
   "source": [
    "vectorizer =TfidfVectorizer(tokenizer=tokenize,\n",
    "                            stop_words=stpwrd,\n",
    "                            max_df=0.75,\n",
    "                            min_df=50,\n",
    "                            use_idf=False,\n",
    "                            norm=None)\n",
    "tf_vectors = vectorizer.fit_transform(X_train.reviews)\n",
    "\n",
    "\n",
    "\n"
   ]
  },
  {
   "cell_type": "code",
   "execution_count": 273,
   "metadata": {},
   "outputs": [],
   "source": [
    "vectorizer1 = CountVectorizer(stop_words=stpwrd,\n",
    "                            max_df=0.75,\n",
    "                            min_df=50)\n",
    "count_vectors = vectorizer1.fit_transform(X_train.reviews)"
   ]
  },
  {
   "cell_type": "code",
   "execution_count": 274,
   "metadata": {},
   "outputs": [
    {
     "data": {
      "text/plain": [
       "array([[0., 0., 0., ..., 0., 0., 0.],\n",
       "       [0., 1., 2., ..., 0., 1., 0.],\n",
       "       [2., 0., 0., ..., 0., 0., 0.],\n",
       "       ...,\n",
       "       [0., 2., 0., ..., 0., 0., 0.],\n",
       "       [0., 0., 0., ..., 0., 0., 0.],\n",
       "       [1., 0., 1., ..., 0., 0., 0.]])"
      ]
     },
     "execution_count": 274,
     "metadata": {},
     "output_type": "execute_result"
    }
   ],
   "source": [
    "tf_vectors.A"
   ]
  },
  {
   "cell_type": "code",
   "execution_count": 275,
   "metadata": {},
   "outputs": [],
   "source": [
    "lda = decomposition.LatentDirichletAllocation(\n",
    "        n_components=6, # no of topics\n",
    "        max_iter=20, \n",
    "        learning_method='online', #min batch of the dataset\n",
    "        learning_offset=50, #\n",
    "        n_jobs=-1,\n",
    "        random_state=111\n",
    ")\n",
    "\n",
    "W1=lda.fit_transform(tf_vectors)\n",
    "H1 = lda.components_"
   ]
  },
  {
   "cell_type": "code",
   "execution_count": 276,
   "metadata": {},
   "outputs": [
    {
     "data": {
      "text/plain": [
       "array([[0.02093612, 0.46900244, 0.02099234, 0.02086524, 0.02101627,\n",
       "        0.44718759],\n",
       "       [0.63128062, 0.00392253, 0.00389867, 0.35307828, 0.00391119,\n",
       "        0.00390869],\n",
       "       [0.01526048, 0.01544679, 0.01528655, 0.01521209, 0.92357198,\n",
       "        0.01522211],\n",
       "       ...,\n",
       "       [0.00698128, 0.00701031, 0.29971995, 0.00699906, 0.00699524,\n",
       "        0.67229416],\n",
       "       [0.00700127, 0.00702851, 0.50060399, 0.00698999, 0.47131068,\n",
       "        0.00706556],\n",
       "       [0.13516963, 0.00600074, 0.00601232, 0.15419809, 0.69263476,\n",
       "        0.00598446]])"
      ]
     },
     "execution_count": 276,
     "metadata": {},
     "output_type": "execute_result"
    }
   ],
   "source": [
    "W1"
   ]
  },
  {
   "cell_type": "code",
   "execution_count": 277,
   "metadata": {},
   "outputs": [],
   "source": [
    "num_words = 15\n",
    "\n",
    "vocab = np.array(vectorizer.get_feature_names_out())\n",
    "top_words = lambda t:[vocab[i] for i in np.argsort(t)[:-num_words-1:-1]]\n",
    "topic_words = ([top_words(t) for t in H1])\n",
    "topics = [' '.join(t) for t in topic_words]"
   ]
  },
  {
   "cell_type": "code",
   "execution_count": 278,
   "metadata": {},
   "outputs": [
    {
     "data": {
      "text/plain": [
       "['economy premium service seat meal food cabin crew water served better drink plane seats offered',\n",
       " 'staff food first service airline poor cabin heathrow seats class even choice experience meal crew',\n",
       " 'class business airways british seat seats passengers time heathrow staff service flew food boarding people',\n",
       " 'british airways airlines return flights service airline customer good gatwick people nothing booked long drink',\n",
       " 'crew cabin time food lounge good club seat aircraft service return boarding passengers late minutes',\n",
       " 'hours told customer service luggage heathrow hour plane airport booked another back days time delayed']"
      ]
     },
     "execution_count": 278,
     "metadata": {},
     "output_type": "execute_result"
    }
   ],
   "source": [
    "topics"
   ]
  },
  {
   "cell_type": "code",
   "execution_count": 279,
   "metadata": {},
   "outputs": [],
   "source": [
    "colnames = [\"Topic\"+str(i) for i in range(lda.n_components)]\n",
    "docnames = [\"Doc\" + str(i) for i in range(len(X_train.reviews))]\n",
    "\n",
    "df_doc_topic  =pd.DataFrame(np.round(W1,2),columns=colnames,index=docnames)\n",
    "significant_topic = np.argmax(df_doc_topic.values,axis=1)\n",
    "df_doc_topic['dominant_topic'] = significant_topic"
   ]
  },
  {
   "cell_type": "code",
   "execution_count": 280,
   "metadata": {},
   "outputs": [
    {
     "data": {
      "text/html": [
       "<div>\n",
       "<style scoped>\n",
       "    .dataframe tbody tr th:only-of-type {\n",
       "        vertical-align: middle;\n",
       "    }\n",
       "\n",
       "    .dataframe tbody tr th {\n",
       "        vertical-align: top;\n",
       "    }\n",
       "\n",
       "    .dataframe thead th {\n",
       "        text-align: right;\n",
       "    }\n",
       "</style>\n",
       "<table border=\"1\" class=\"dataframe\">\n",
       "  <thead>\n",
       "    <tr style=\"text-align: right;\">\n",
       "      <th></th>\n",
       "      <th>Topic0</th>\n",
       "      <th>Topic1</th>\n",
       "      <th>Topic2</th>\n",
       "      <th>Topic3</th>\n",
       "      <th>Topic4</th>\n",
       "      <th>Topic5</th>\n",
       "      <th>dominant_topic</th>\n",
       "    </tr>\n",
       "  </thead>\n",
       "  <tbody>\n",
       "    <tr>\n",
       "      <th>Doc0</th>\n",
       "      <td>0.02</td>\n",
       "      <td>0.47</td>\n",
       "      <td>0.02</td>\n",
       "      <td>0.02</td>\n",
       "      <td>0.02</td>\n",
       "      <td>0.45</td>\n",
       "      <td>1</td>\n",
       "    </tr>\n",
       "    <tr>\n",
       "      <th>Doc1</th>\n",
       "      <td>0.63</td>\n",
       "      <td>0.00</td>\n",
       "      <td>0.00</td>\n",
       "      <td>0.35</td>\n",
       "      <td>0.00</td>\n",
       "      <td>0.00</td>\n",
       "      <td>0</td>\n",
       "    </tr>\n",
       "    <tr>\n",
       "      <th>Doc2</th>\n",
       "      <td>0.02</td>\n",
       "      <td>0.02</td>\n",
       "      <td>0.02</td>\n",
       "      <td>0.02</td>\n",
       "      <td>0.92</td>\n",
       "      <td>0.02</td>\n",
       "      <td>4</td>\n",
       "    </tr>\n",
       "    <tr>\n",
       "      <th>Doc3</th>\n",
       "      <td>0.00</td>\n",
       "      <td>0.58</td>\n",
       "      <td>0.00</td>\n",
       "      <td>0.00</td>\n",
       "      <td>0.41</td>\n",
       "      <td>0.00</td>\n",
       "      <td>1</td>\n",
       "    </tr>\n",
       "    <tr>\n",
       "      <th>Doc4</th>\n",
       "      <td>0.06</td>\n",
       "      <td>0.46</td>\n",
       "      <td>0.00</td>\n",
       "      <td>0.00</td>\n",
       "      <td>0.47</td>\n",
       "      <td>0.00</td>\n",
       "      <td>4</td>\n",
       "    </tr>\n",
       "    <tr>\n",
       "      <th>...</th>\n",
       "      <td>...</td>\n",
       "      <td>...</td>\n",
       "      <td>...</td>\n",
       "      <td>...</td>\n",
       "      <td>...</td>\n",
       "      <td>...</td>\n",
       "      <td>...</td>\n",
       "    </tr>\n",
       "    <tr>\n",
       "      <th>Doc441</th>\n",
       "      <td>0.01</td>\n",
       "      <td>0.01</td>\n",
       "      <td>0.01</td>\n",
       "      <td>0.23</td>\n",
       "      <td>0.01</td>\n",
       "      <td>0.73</td>\n",
       "      <td>5</td>\n",
       "    </tr>\n",
       "    <tr>\n",
       "      <th>Doc442</th>\n",
       "      <td>0.01</td>\n",
       "      <td>0.01</td>\n",
       "      <td>0.01</td>\n",
       "      <td>0.01</td>\n",
       "      <td>0.70</td>\n",
       "      <td>0.26</td>\n",
       "      <td>4</td>\n",
       "    </tr>\n",
       "    <tr>\n",
       "      <th>Doc443</th>\n",
       "      <td>0.01</td>\n",
       "      <td>0.01</td>\n",
       "      <td>0.30</td>\n",
       "      <td>0.01</td>\n",
       "      <td>0.01</td>\n",
       "      <td>0.67</td>\n",
       "      <td>5</td>\n",
       "    </tr>\n",
       "    <tr>\n",
       "      <th>Doc444</th>\n",
       "      <td>0.01</td>\n",
       "      <td>0.01</td>\n",
       "      <td>0.50</td>\n",
       "      <td>0.01</td>\n",
       "      <td>0.47</td>\n",
       "      <td>0.01</td>\n",
       "      <td>2</td>\n",
       "    </tr>\n",
       "    <tr>\n",
       "      <th>Doc445</th>\n",
       "      <td>0.14</td>\n",
       "      <td>0.01</td>\n",
       "      <td>0.01</td>\n",
       "      <td>0.15</td>\n",
       "      <td>0.69</td>\n",
       "      <td>0.01</td>\n",
       "      <td>4</td>\n",
       "    </tr>\n",
       "  </tbody>\n",
       "</table>\n",
       "<p>446 rows × 7 columns</p>\n",
       "</div>"
      ],
      "text/plain": [
       "        Topic0  Topic1  Topic2  Topic3  Topic4  Topic5  dominant_topic\n",
       "Doc0      0.02    0.47    0.02    0.02    0.02    0.45               1\n",
       "Doc1      0.63    0.00    0.00    0.35    0.00    0.00               0\n",
       "Doc2      0.02    0.02    0.02    0.02    0.92    0.02               4\n",
       "Doc3      0.00    0.58    0.00    0.00    0.41    0.00               1\n",
       "Doc4      0.06    0.46    0.00    0.00    0.47    0.00               4\n",
       "...        ...     ...     ...     ...     ...     ...             ...\n",
       "Doc441    0.01    0.01    0.01    0.23    0.01    0.73               5\n",
       "Doc442    0.01    0.01    0.01    0.01    0.70    0.26               4\n",
       "Doc443    0.01    0.01    0.30    0.01    0.01    0.67               5\n",
       "Doc444    0.01    0.01    0.50    0.01    0.47    0.01               2\n",
       "Doc445    0.14    0.01    0.01    0.15    0.69    0.01               4\n",
       "\n",
       "[446 rows x 7 columns]"
      ]
     },
     "execution_count": 280,
     "metadata": {},
     "output_type": "execute_result"
    }
   ],
   "source": [
    "df_doc_topic"
   ]
  },
  {
   "cell_type": "code",
   "execution_count": 281,
   "metadata": {},
   "outputs": [
    {
     "data": {
      "text/html": [
       "<div>\n",
       "<style scoped>\n",
       "    .dataframe tbody tr th:only-of-type {\n",
       "        vertical-align: middle;\n",
       "    }\n",
       "\n",
       "    .dataframe tbody tr th {\n",
       "        vertical-align: top;\n",
       "    }\n",
       "\n",
       "    .dataframe thead th {\n",
       "        text-align: right;\n",
       "    }\n",
       "</style>\n",
       "<table border=\"1\" class=\"dataframe\">\n",
       "  <thead>\n",
       "    <tr style=\"text-align: right;\">\n",
       "      <th></th>\n",
       "      <th>reviews</th>\n",
       "      <th>tokens</th>\n",
       "      <th>sentiment</th>\n",
       "    </tr>\n",
       "  </thead>\n",
       "  <tbody>\n",
       "    <tr>\n",
       "      <th>171</th>\n",
       "      <td>I was refused an early check in and was told t...</td>\n",
       "      <td>['refused', 'early', 'check', 'told', 'come', ...</td>\n",
       "      <td>0</td>\n",
       "    </tr>\n",
       "    <tr>\n",
       "      <th>917</th>\n",
       "      <td>Unimpressed! Service very indifferent, impress...</td>\n",
       "      <td>['unimpressed', 'service', 'indifferent', 'imp...</td>\n",
       "      <td>0</td>\n",
       "    </tr>\n",
       "    <tr>\n",
       "      <th>99</th>\n",
       "      <td>Very low standards for Club Europe: there was ...</td>\n",
       "      <td>['low', 'standards', 'club', 'europe', 'cabin'...</td>\n",
       "      <td>0</td>\n",
       "    </tr>\n",
       "    <tr>\n",
       "      <th>1293</th>\n",
       "      <td>Montreal to London and return to Toronto. O/W ...</td>\n",
       "      <td>['montreal', 'london', 'return', 'toronto', 'o...</td>\n",
       "      <td>0</td>\n",
       "    </tr>\n",
       "    <tr>\n",
       "      <th>1334</th>\n",
       "      <td>My wife and I have been flying British Airways...</td>\n",
       "      <td>['wife', 'flying', 'british', 'airways', 'shor...</td>\n",
       "      <td>0</td>\n",
       "    </tr>\n",
       "  </tbody>\n",
       "</table>\n",
       "</div>"
      ],
      "text/plain": [
       "                                                reviews  \\\n",
       "171   I was refused an early check in and was told t...   \n",
       "917   Unimpressed! Service very indifferent, impress...   \n",
       "99    Very low standards for Club Europe: there was ...   \n",
       "1293  Montreal to London and return to Toronto. O/W ...   \n",
       "1334  My wife and I have been flying British Airways...   \n",
       "\n",
       "                                                 tokens  sentiment  \n",
       "171   ['refused', 'early', 'check', 'told', 'come', ...          0  \n",
       "917   ['unimpressed', 'service', 'indifferent', 'imp...          0  \n",
       "99    ['low', 'standards', 'club', 'europe', 'cabin'...          0  \n",
       "1293  ['montreal', 'london', 'return', 'toronto', 'o...          0  \n",
       "1334  ['wife', 'flying', 'british', 'airways', 'shor...          0  "
      ]
     },
     "execution_count": 281,
     "metadata": {},
     "output_type": "execute_result"
    }
   ],
   "source": [
    "X_train.head()"
   ]
  },
  {
   "cell_type": "code",
   "execution_count": 282,
   "metadata": {},
   "outputs": [
    {
     "data": {
      "text/plain": [
       "array(['My wife and I have been flying British Airways short haul in Club Europe for several years and until recently have been more than satisfied with the service provided. Noticeably, this year that service has become far more erratic culminating in an extremely poor performance and unpleasant experience on this recent flight to Malta ex Gatwick. Departure time was 0750 and we arrived at Premium Check-in at 0620 to find only one member of staff manning the desks serving First and Club. There were at least 10 parties waiting in the queue, some of whom defected to Economy desks which were heavily manned with faster moving queues. Only after more than 15 minutes did extra staff arrive and when we reached the desk the attitude of the Check-in lady left much to be desired - robotic, unsmiling and disinterested is probably a kind description. It would have been good to have been informed that the No 1 Lounge was available in the absence of the BA offering, but no mention of a lounge was made at all. The No 1 Lounge struggles to cope with the additional passenger load, but that is another story. Boarding was fine, but the in-flight service from a totally disinterested cabin crew was perfunctory at best. The meal service was late and slow with no drinks of any sort offered until after all meals had been dispensed. Clearing the meal was even worse. The flight was in final approach to Luqa when, returning from the toilet, I saw one of the cabin crew sitting in the galley playing solitaire on her I-pad whilst bottles and glasses remained at seats which then had to be hurriedly removed as the Captain announced \"cabin crew to seats for landing\". Should I have apologised for being a mere passenger interrupting this lady\\'s games session? Appalling - and such a contrast to several LHR-PRG early morning flights over recent years when it has been a joy to fly BA. This may just have been a bad flight, but I fear that this is the future for BA unless somebody at the top reads these reports and takes remedial action before it\\'s good name is lost forever.'],\n",
       "      dtype=object)"
      ]
     },
     "execution_count": 282,
     "metadata": {},
     "output_type": "execute_result"
    }
   ],
   "source": [
    "X_train.head().tail(1).reviews.values"
   ]
  },
  {
   "cell_type": "code",
   "execution_count": 283,
   "metadata": {},
   "outputs": [
    {
     "data": {
      "text/plain": [
       "'class business airways british seat seats passengers time heathrow staff service flew food boarding people'"
      ]
     },
     "execution_count": 283,
     "metadata": {},
     "output_type": "execute_result"
    }
   ],
   "source": [
    "topics[2]"
   ]
  },
  {
   "attachments": {},
   "cell_type": "markdown",
   "metadata": {},
   "source": [
    "Print the top words for each topic by looping through the components_ attribute of the LDA model and sorting the words by their weights in each topic."
   ]
  },
  {
   "cell_type": "code",
   "execution_count": 284,
   "metadata": {},
   "outputs": [
    {
     "name": "stdout",
     "output_type": "stream",
     "text": [
      "Topic 1:\n",
      "['offered', 'seats', 'plane', 'drink', 'better', 'served', 'water', 'crew', 'cabin', 'food', 'meal', 'seat', 'service', 'premium', 'economy']\n",
      "Topic 2:\n",
      "['crew', 'meal', 'experience', 'choice', 'even', 'class', 'seats', 'heathrow', 'cabin', 'poor', 'airline', 'service', 'first', 'food', 'staff']\n",
      "Topic 3:\n",
      "['people', 'boarding', 'food', 'flew', 'service', 'staff', 'heathrow', 'time', 'passengers', 'seats', 'seat', 'british', 'airways', 'business', 'class']\n",
      "Topic 4:\n",
      "['drink', 'long', 'booked', 'nothing', 'people', 'gatwick', 'good', 'customer', 'airline', 'service', 'flights', 'return', 'airlines', 'airways', 'british']\n",
      "Topic 5:\n",
      "['minutes', 'late', 'passengers', 'boarding', 'return', 'service', 'aircraft', 'seat', 'club', 'good', 'lounge', 'food', 'time', 'cabin', 'crew']\n",
      "Topic 6:\n",
      "['delayed', 'time', 'days', 'back', 'another', 'booked', 'airport', 'plane', 'hour', 'heathrow', 'luggage', 'service', 'customer', 'told', 'hours']\n"
     ]
    }
   ],
   "source": [
    "# Print the top words for each topic\n",
    "word_list=[]\n",
    "for i, topic in enumerate(lda.components_):\n",
    "    print(f\"Topic {i+1}:\")\n",
    "    topic_words = [vectorizer.get_feature_names_out()[i] for i in topic.argsort()[-15:]]\n",
    "    word_list=word_list+topic_words\n",
    "    print(topic_words)\n",
    "    "
   ]
  },
  {
   "cell_type": "code",
   "execution_count": 285,
   "metadata": {},
   "outputs": [
    {
     "data": {
      "text/plain": [
       "['offered',\n",
       " 'seats',\n",
       " 'plane',\n",
       " 'drink',\n",
       " 'better',\n",
       " 'served',\n",
       " 'water',\n",
       " 'crew',\n",
       " 'cabin',\n",
       " 'food',\n",
       " 'meal',\n",
       " 'seat',\n",
       " 'service',\n",
       " 'premium',\n",
       " 'economy',\n",
       " 'crew',\n",
       " 'meal',\n",
       " 'experience',\n",
       " 'choice',\n",
       " 'even',\n",
       " 'class',\n",
       " 'seats',\n",
       " 'heathrow',\n",
       " 'cabin',\n",
       " 'poor',\n",
       " 'airline',\n",
       " 'service',\n",
       " 'first',\n",
       " 'food',\n",
       " 'staff',\n",
       " 'people',\n",
       " 'boarding',\n",
       " 'food',\n",
       " 'flew',\n",
       " 'service',\n",
       " 'staff',\n",
       " 'heathrow',\n",
       " 'time',\n",
       " 'passengers',\n",
       " 'seats',\n",
       " 'seat',\n",
       " 'british',\n",
       " 'airways',\n",
       " 'business',\n",
       " 'class',\n",
       " 'drink',\n",
       " 'long',\n",
       " 'booked',\n",
       " 'nothing',\n",
       " 'people',\n",
       " 'gatwick',\n",
       " 'good',\n",
       " 'customer',\n",
       " 'airline',\n",
       " 'service',\n",
       " 'flights',\n",
       " 'return',\n",
       " 'airlines',\n",
       " 'airways',\n",
       " 'british',\n",
       " 'minutes',\n",
       " 'late',\n",
       " 'passengers',\n",
       " 'boarding',\n",
       " 'return',\n",
       " 'service',\n",
       " 'aircraft',\n",
       " 'seat',\n",
       " 'club',\n",
       " 'good',\n",
       " 'lounge',\n",
       " 'food',\n",
       " 'time',\n",
       " 'cabin',\n",
       " 'crew',\n",
       " 'delayed',\n",
       " 'time',\n",
       " 'days',\n",
       " 'back',\n",
       " 'another',\n",
       " 'booked',\n",
       " 'airport',\n",
       " 'plane',\n",
       " 'hour',\n",
       " 'heathrow',\n",
       " 'luggage',\n",
       " 'service',\n",
       " 'customer',\n",
       " 'told',\n",
       " 'hours']"
      ]
     },
     "execution_count": 285,
     "metadata": {},
     "output_type": "execute_result"
    }
   ],
   "source": [
    "\n",
    "word_list"
   ]
  },
  {
   "cell_type": "code",
   "execution_count": 286,
   "metadata": {},
   "outputs": [
    {
     "data": {
      "text/plain": [
       "Counter({'offered': 1,\n",
       "         'seats': 3,\n",
       "         'plane': 2,\n",
       "         'drink': 2,\n",
       "         'better': 1,\n",
       "         'served': 1,\n",
       "         'water': 1,\n",
       "         'crew': 3,\n",
       "         'cabin': 3,\n",
       "         'food': 4,\n",
       "         'meal': 2,\n",
       "         'seat': 3,\n",
       "         'service': 6,\n",
       "         'premium': 1,\n",
       "         'economy': 1,\n",
       "         'experience': 1,\n",
       "         'choice': 1,\n",
       "         'even': 1,\n",
       "         'class': 2,\n",
       "         'heathrow': 3,\n",
       "         'poor': 1,\n",
       "         'airline': 2,\n",
       "         'first': 1,\n",
       "         'staff': 2,\n",
       "         'people': 2,\n",
       "         'boarding': 2,\n",
       "         'flew': 1,\n",
       "         'time': 3,\n",
       "         'passengers': 2,\n",
       "         'british': 2,\n",
       "         'airways': 2,\n",
       "         'business': 1,\n",
       "         'long': 1,\n",
       "         'booked': 2,\n",
       "         'nothing': 1,\n",
       "         'gatwick': 1,\n",
       "         'good': 2,\n",
       "         'customer': 2,\n",
       "         'flights': 1,\n",
       "         'return': 2,\n",
       "         'airlines': 1,\n",
       "         'minutes': 1,\n",
       "         'late': 1,\n",
       "         'aircraft': 1,\n",
       "         'club': 1,\n",
       "         'lounge': 1,\n",
       "         'delayed': 1,\n",
       "         'days': 1,\n",
       "         'back': 1,\n",
       "         'another': 1,\n",
       "         'airport': 1,\n",
       "         'hour': 1,\n",
       "         'luggage': 1,\n",
       "         'told': 1,\n",
       "         'hours': 1})"
      ]
     },
     "execution_count": 286,
     "metadata": {},
     "output_type": "execute_result"
    }
   ],
   "source": [
    "Counter(word_list)"
   ]
  },
  {
   "cell_type": "code",
   "execution_count": 287,
   "metadata": {},
   "outputs": [
    {
     "data": {
      "text/html": [
       "<div>\n",
       "<style scoped>\n",
       "    .dataframe tbody tr th:only-of-type {\n",
       "        vertical-align: middle;\n",
       "    }\n",
       "\n",
       "    .dataframe tbody tr th {\n",
       "        vertical-align: top;\n",
       "    }\n",
       "\n",
       "    .dataframe thead th {\n",
       "        text-align: right;\n",
       "    }\n",
       "</style>\n",
       "<table border=\"1\" class=\"dataframe\">\n",
       "  <thead>\n",
       "    <tr style=\"text-align: right;\">\n",
       "      <th></th>\n",
       "      <th>frequency</th>\n",
       "    </tr>\n",
       "  </thead>\n",
       "  <tbody>\n",
       "    <tr>\n",
       "      <th>service</th>\n",
       "      <td>6</td>\n",
       "    </tr>\n",
       "    <tr>\n",
       "      <th>food</th>\n",
       "      <td>4</td>\n",
       "    </tr>\n",
       "    <tr>\n",
       "      <th>time</th>\n",
       "      <td>3</td>\n",
       "    </tr>\n",
       "    <tr>\n",
       "      <th>crew</th>\n",
       "      <td>3</td>\n",
       "    </tr>\n",
       "    <tr>\n",
       "      <th>seats</th>\n",
       "      <td>3</td>\n",
       "    </tr>\n",
       "  </tbody>\n",
       "</table>\n",
       "</div>"
      ],
      "text/plain": [
       "         frequency\n",
       "service          6\n",
       "food             4\n",
       "time             3\n",
       "crew             3\n",
       "seats            3"
      ]
     },
     "execution_count": 287,
     "metadata": {},
     "output_type": "execute_result"
    }
   ],
   "source": [
    "df_topic_words = pd.DataFrame.from_dict(Counter(word_list), orient='index', columns=['frequency'])\n",
    "df_topic_words.sort_values('frequency',ascending=False,inplace=True)\n",
    "df_topic_words.head()"
   ]
  },
  {
   "cell_type": "code",
   "execution_count": 288,
   "metadata": {},
   "outputs": [
    {
     "name": "stderr",
     "output_type": "stream",
     "text": [
      "c:\\Users\\adity\\.conda\\envs\\env_pytorch\\lib\\site-packages\\seaborn\\rcmod.py:400: DeprecationWarning: distutils Version classes are deprecated. Use packaging.version instead.\n",
      "  if LooseVersion(mpl.__version__) >= \"3.0\":\n",
      "c:\\Users\\adity\\.conda\\envs\\env_pytorch\\lib\\site-packages\\setuptools\\_distutils\\version.py:346: DeprecationWarning: distutils Version classes are deprecated. Use packaging.version instead.\n",
      "  other = LooseVersion(other)\n"
     ]
    },
    {
     "data": {
      "image/png": "[encoded data removed]",
      "text/plain": [
       "<Figure size 1000x700 with 1 Axes>"
      ]
     },
     "metadata": {},
     "output_type": "display_data"
    }
   ],
   "source": [
    "# create figure and axes\n",
    "fig, ax = plt.subplots(figsize=(10,7), dpi=100)\n",
    "sns.set(style=\"whitegrid\", color_codes=True)\n",
    "pal = sns.color_palette(\"Greens_d\", len(df_topic_words))\n",
    "sns.barplot(data=df_topic_words,x=df_topic_words.index,y='frequency',palette=pal)\n",
    "plt.title('Topic words and their frequencies')\n",
    "plt.xticks(rotation=85)\n",
    "plt.tight_layout()"
   ]
  },
  {
   "cell_type": "code",
   "execution_count": 289,
   "metadata": {},
   "outputs": [
    {
     "name": "stdout",
     "output_type": "stream",
     "text": [
      "Topic 1:\n"
     ]
    },
    {
     "name": "stderr",
     "output_type": "stream",
     "text": [
      "c:\\Users\\adity\\.conda\\envs\\env_pytorch\\lib\\site-packages\\sklearn\\utils\\deprecation.py:87: FutureWarning: Function get_feature_names is deprecated; get_feature_names is deprecated in 1.0 and will be removed in 1.2. Please use get_feature_names_out instead.\n",
      "  warnings.warn(msg, category=FutureWarning)\n"
     ]
    },
    {
     "name": "stdout",
     "output_type": "stream",
     "text": [
      "['two months', 'old with', 'min', 'unfriendly', 'change of', 'cello', 'my sister', 'sister', 'arrogant', 'counter']\n",
      "Topic 2:\n",
      "['we', 'flight', 'for', 'on', 'of', 'in', 'was', 'and', 'to', 'the']\n",
      "Topic 3:\n",
      "['never experienced', 'they took', 'phoned', 'outsourced', '2019', 'diego', 'san diego', 'fco', 'put us', 'rome']\n",
      "Topic 4:\n",
      "['to redeem', 'we only', 'off for', 'flight departed', '90', 'and told', 'transit', 'bumped', 'ba used', 'vegan']\n",
      "Topic 5:\n",
      "['bag of', 'gate the', 'more legroom', 'and when', 'my boarding', 'absolutely no', 'my seats', 'montreal', 'cabin luggage', 'allowance']\n",
      "Topic 6:\n",
      "['have any', 'to larnaca', 'jersey', 'ife was', 'oslo', 'offer any', 'counter', 'price for', 'san francisco', 'francisco']\n",
      "Topic 7:\n",
      "['bag for', 'seat assignments', 'transit', 'extortionate', 'san francisco', 'francisco', 'rome', 'airline has', 'kul', 'counter']\n",
      "Topic 8:\n",
      "['aus', 'snacks on', 'the upper', 'dhabi', 'abu dhabi', 'abu', 'been reduced', 'you cannot', 'buggy', 'reputation']\n",
      "Topic 9:\n",
      "['nobody', 'attempts', 'replacement', 'never use', 'kuala', 'lumpur', 'kuala lumpur', 'no staff', 'possible to', 'city to']\n",
      "Topic 10:\n",
      "['not notified', 'the date', 'passion', 'notified', 'dhabi', 'abu dhabi', 'abu', 'booked my', 'worst have', 'wt']\n"
     ]
    }
   ],
   "source": [
    "# Extract the text column\n",
    "text = neg_reviews[\"reviews\"]\n",
    "\n",
    "# Convert the text to a matrix of term frequency-inverse document frequency (TF-IDF) features, including 2-grams\n",
    "vectorizer = TfidfVectorizer(ngram_range=(1, 2))\n",
    "X = vectorizer.fit_transform(text)\n",
    "\n",
    "# Build the Latent Dirichlet Allocation (LDA) model\n",
    "lda = decomposition.LatentDirichletAllocation(n_components=10, random_state=42)\n",
    "\n",
    "# Fit the model to the data\n",
    "lda.fit(X)\n",
    "\n",
    "# Print the top words for each topic\n",
    "for i, topic in enumerate(lda.components_):\n",
    "    print(f\"Topic {i+1}:\")\n",
    "    print([vectorizer.get_feature_names()[i] for i in topic.argsort()[-10:]])\n",
    "\n"
   ]
  },
  {
   "cell_type": "code",
   "execution_count": 290,
   "metadata": {},
   "outputs": [],
   "source": [
    "import gensim\n",
    "from gensim.models import Word2Vec"
   ]
  },
  {
   "cell_type": "code",
   "execution_count": 291,
   "metadata": {},
   "outputs": [
    {
     "name": "stderr",
     "output_type": "stream",
     "text": [
      "c:\\Users\\adity\\.conda\\envs\\env_pytorch\\lib\\site-packages\\sklearn\\cluster\\_kmeans.py:1332: UserWarning: KMeans is known to have a memory leak on Windows with MKL, when there are less chunks than available threads. You can avoid it by setting the environment variable OMP_NUM_THREADS=6.\n",
      "  warnings.warn(\n"
     ]
    },
    {
     "name": "stdout",
     "output_type": "stream",
     "text": [
      "Topic 1:\n",
      "['the', 'to', 'and', 'a', 'was', 'I', 'of', 'in', 'for', 'on']\n",
      "Topic 2:\n",
      "['the', 'and', 'to', 'a', 'was', 'of', 'in', 'on', 'I', 'The']\n",
      "Topic 3:\n",
      "['to', 'the', 'I', 'and', 'a', 'was', 'of', 'for', 'my', 'in']\n",
      "Topic 4:\n",
      "['the', 'and', 'to', 'a', 'is', 'I', 'in', 'on', 'with', 'of']\n",
      "Topic 5:\n",
      "['the', 'was', 'and', 'to', 'a', 'of', 'The', 'in', 'on', 'were']\n",
      "Topic 6:\n",
      "['the', 'to', 'and', 'a', 'was', 'of', 'in', 'on', 'with', 'for']\n",
      "Topic 7:\n",
      "['to', 'I', 'the', 'a', 'and', 'for', 'was', 'have', 'my', 'that']\n",
      "Topic 8:\n",
      "['to', 'the', 'and', 'was', 'a', 'I', 'flight', 'for', 'in', 'on']\n",
      "Topic 9:\n",
      "['to', 'the', 'and', 'a', 'I', 'with', 'in', 'of', 'for', 'was']\n",
      "Topic 10:\n",
      "['to', 'the', 'I', 'and', 'was', 'a', 'in', 'that', 'for', 'flight']\n"
     ]
    }
   ],
   "source": [
    "# Extract the text column\n",
    "text = neg_reviews[\"reviews\"]\n",
    "reviews = [review.split() for review in text]\n",
    "\n",
    "# Train a word2vec model on the reviews\n",
    "model = Word2Vec(reviews, vector_size =100, window=5, min_count=1, workers=4)\n",
    "\n",
    "\n",
    "# Get the word vectors for each review\n",
    "review_vectors = []\n",
    "for review in reviews:\n",
    "    review_vectors.append(np.mean([model.wv[word] for word in review], axis=0))\n",
    "\n",
    "# Use k-means clustering to cluster the review vectors into 10 clusters\n",
    "from sklearn.cluster import KMeans\n",
    "kmeans = KMeans(n_clusters=10, random_state=42)\n",
    "kmeans.fit(review_vectors)\n",
    "\n",
    "# Print the top words for each cluster\n",
    "for i in range(10):\n",
    "    cluster_reviews = [reviews[j] for j in range(len(reviews)) if kmeans.labels_[j] == i]\n",
    "    words = [word for review in cluster_reviews for word in review]\n",
    "    word_counts = {}\n",
    "    for word in words:\n",
    "        if word in word_counts:\n",
    "            word_counts[word] += 1\n",
    "        else:\n",
    "            word_counts[word] = 1\n",
    "    sorted_word_counts = sorted(word_counts.items(), key=lambda x: x[1], reverse=True)\n",
    "    print(f\"Topic {i+1}:\")\n",
    "    print([x[0] for x in sorted_word_counts[:10]])"
   ]
  },
  {
   "cell_type": "code",
   "execution_count": null,
   "metadata": {},
   "outputs": [],
   "source": []
  }
 ],
 "metadata": {
  "kernelspec": {
   "display_name": "env_pytorch",
   "language": "python",
   "name": "python3"
  },
  "language_info": {
   "codemirror_mode": {
    "name": "ipython",
    "version": 3
   },
   "file_extension": ".py",
   "mimetype": "text/x-python",
   "name": "python",
   "nbconvert_exporter": "python",
   "pygments_lexer": "ipython3",
   "version": "3.10.4"
  },
  "orig_nbformat": 4,
  "vscode": {
   "interpreter": {
    "hash": "c2d5e71f59c2e4535768c8af4272ebdceb904fbebd50d6958e23c04b61c10198"
   }
  }
 },
 "nbformat": 4,
 "nbformat_minor": 2
}
