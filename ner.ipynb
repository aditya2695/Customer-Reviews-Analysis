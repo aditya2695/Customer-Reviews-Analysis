{
 "cells": [
  {
   "cell_type": "code",
   "execution_count": 1,
   "metadata": {},
   "outputs": [
    {
     "name": "stderr",
     "output_type": "stream",
     "text": [
      "[nltk_data] Downloading package stopwords to\n",
      "[nltk_data]     C:\\Users\\adity\\AppData\\Roaming\\nltk_data...\n",
      "[nltk_data]   Package stopwords is already up-to-date!\n",
      "[nltk_data] Downloading package punkt to\n",
      "[nltk_data]     C:\\Users\\adity\\AppData\\Roaming\\nltk_data...\n",
      "[nltk_data]   Package punkt is already up-to-date!\n",
      "[nltk_data] Downloading package wordnet to\n",
      "[nltk_data]     C:\\Users\\adity\\AppData\\Roaming\\nltk_data...\n",
      "[nltk_data]   Package wordnet is already up-to-date!\n"
     ]
    },
    {
     "data": {
      "text/plain": [
       "True"
      ]
     },
     "execution_count": 1,
     "metadata": {},
     "output_type": "execute_result"
    }
   ],
   "source": [
    "import pandas as pd\n",
    "import numpy as np\n",
    "\n",
    "import os\n",
    "import itertools\n",
    "from collections import Counter\n",
    "import re\n",
    "import string\n",
    "\n",
    "\n",
    "import nltk \n",
    "from nltk.corpus import stopwords \n",
    "from nltk.tokenize import word_tokenize\n",
    "from nltk.stem import WordNetLemmatizer\n",
    "from nltk.stem.porter import PorterStemmer\n",
    "from nltk.stem.lancaster import LancasterStemmer\n",
    "\n",
    "from sklearn.feature_extraction.text import CountVectorizer\n",
    "from sklearn.linear_model import LogisticRegression\n",
    "\n",
    "from sklearn.feature_extraction.text import TfidfTransformer\n",
    "from sklearn.feature_extraction.text import CountVectorizer \n",
    "\n",
    "import spacy\n",
    "\n",
    "nltk.download('stopwords')\n",
    "nltk.download('punkt')\n",
    "nltk.download('wordnet')"
   ]
  },
  {
   "attachments": {},
   "cell_type": "markdown",
   "metadata": {},
   "source": [
    "<img src=\"images/ner.png\">"
   ]
  },
  {
   "cell_type": "code",
   "execution_count": 2,
   "metadata": {},
   "outputs": [
    {
     "data": {
      "text/html": [
       "<div>\n",
       "<style scoped>\n",
       "    .dataframe tbody tr th:only-of-type {\n",
       "        vertical-align: middle;\n",
       "    }\n",
       "\n",
       "    .dataframe tbody tr th {\n",
       "        vertical-align: top;\n",
       "    }\n",
       "\n",
       "    .dataframe thead th {\n",
       "        text-align: right;\n",
       "    }\n",
       "</style>\n",
       "<table border=\"1\" class=\"dataframe\">\n",
       "  <thead>\n",
       "    <tr style=\"text-align: right;\">\n",
       "      <th></th>\n",
       "      <th>reviews</th>\n",
       "      <th>tokens</th>\n",
       "      <th>sentiment</th>\n",
       "    </tr>\n",
       "  </thead>\n",
       "  <tbody>\n",
       "    <tr>\n",
       "      <th>0</th>\n",
       "      <td>BA cancelled my flight home to Heathrow on Dec...</td>\n",
       "      <td>['cancelled', 'home', 'heathrow', 'dec', '19th...</td>\n",
       "      <td>0</td>\n",
       "    </tr>\n",
       "    <tr>\n",
       "      <th>1</th>\n",
       "      <td>BA cancelled my flight home, the last flight o...</td>\n",
       "      <td>['cancelled', 'home', 'last', 'day', 'heathrow...</td>\n",
       "      <td>0</td>\n",
       "    </tr>\n",
       "    <tr>\n",
       "      <th>2</th>\n",
       "      <td>Turned up 3.5 hours in advance, Terminal 5 at ...</td>\n",
       "      <td>['turned', '3.5', 'hours', 'advance', 'termina...</td>\n",
       "      <td>0</td>\n",
       "    </tr>\n",
       "    <tr>\n",
       "      <th>3</th>\n",
       "      <td>Boarding – at gate at LGW they called Group 1 ...</td>\n",
       "      <td>['boarding', '–', 'gate', 'lgw', 'called', 'gr...</td>\n",
       "      <td>0</td>\n",
       "    </tr>\n",
       "    <tr>\n",
       "      <th>4</th>\n",
       "      <td>Missing baggage customer service was the worst...</td>\n",
       "      <td>['missing', 'baggage', 'customer', 'service', ...</td>\n",
       "      <td>0</td>\n",
       "    </tr>\n",
       "  </tbody>\n",
       "</table>\n",
       "</div>"
      ],
      "text/plain": [
       "                                             reviews  \\\n",
       "0  BA cancelled my flight home to Heathrow on Dec...   \n",
       "1  BA cancelled my flight home, the last flight o...   \n",
       "2  Turned up 3.5 hours in advance, Terminal 5 at ...   \n",
       "3  Boarding – at gate at LGW they called Group 1 ...   \n",
       "4  Missing baggage customer service was the worst...   \n",
       "\n",
       "                                              tokens  sentiment  \n",
       "0  ['cancelled', 'home', 'heathrow', 'dec', '19th...          0  \n",
       "1  ['cancelled', 'home', 'last', 'day', 'heathrow...          0  \n",
       "2  ['turned', '3.5', 'hours', 'advance', 'termina...          0  \n",
       "3  ['boarding', '–', 'gate', 'lgw', 'called', 'gr...          0  \n",
       "4  ['missing', 'baggage', 'customer', 'service', ...          0  "
      ]
     },
     "execution_count": 2,
     "metadata": {},
     "output_type": "execute_result"
    }
   ],
   "source": [
    "neg_reviews = pd.read_csv('data/neg_reviews.csv')\n",
    "neg_reviews.head()\n"
   ]
  },
  {
   "attachments": {},
   "cell_type": "markdown",
   "metadata": {},
   "source": [
    "IOB labeling is a technique used in natural language processing to annotate tokens in text data with their corresponding entity types. IOB stands for \"Inside, Outside, Beginning,\" which refers to the labels given to each token in a sequence.\n",
    "\n",
    "The IOB scheme uses three types of labels:\n",
    "\n",
    "    B-xxx (Beginning): This label is used to indicate the first token in an entity.\n",
    "    I-xxx (Inside): This label is used to indicate any token inside an entity except for the first one.\n",
    "    O (Outside): This label is used to indicate that a token is not part of any entity.\n",
    "\n",
    "For example, consider the following sentence: \"John Smith works at ABC Corp in New York.\" Here, the tokens \"John\" and \"Smith\" are part of the entity \"person,\" while \"ABC\" and \"New York\" are part of the entity \"organization\" and \"location,\" respectively. The IOB labels for this sentence would be:\n",
    "\n",
    "    John (B-person)\n",
    "    Smith (I-person)\n",
    "    works (O)\n",
    "    at (O)\n",
    "    ABC (B-organization)\n",
    "    Corp (I-organization)\n",
    "    in (O)\n",
    "    New (B-location)\n",
    "    York (I-location)\n",
    "\n",
    "IOB labeling is often used as a preprocessing step for named entity recognition (NER) tasks, where the goal is to automatically identify and classify named entities in text data."
   ]
  },
  {
   "cell_type": "code",
   "execution_count": 3,
   "metadata": {},
   "outputs": [],
   "source": [
    "stpwrd = nltk.corpus.stopwords.words('english')\n",
    "stpwrd.extend(string.punctuation)\n",
    "stpwrd.extend(['like','have','any','could','sister','would','said','asked','london'])"
   ]
  },
  {
   "cell_type": "code",
   "execution_count": null,
   "metadata": {},
   "outputs": [],
   "source": [
    "def tokenize(txt):\n",
    "    tokens=[word for word in nltk.word_tokenize(txt) if len(word)>3]\n",
    "    return tokens"
   ]
  },
  {
   "cell_type": "code",
   "execution_count": 7,
   "metadata": {},
   "outputs": [],
   "source": [
    "import spacy\n",
    "from spacy import displacy,tokenizer\n",
    "\n",
    "# load the pre-trained NER model\n",
    "nlp = spacy.load(\"en_core_web_sm\")\n",
    "\n",
    "# sample text to analyze\n",
    "text = \"Apple is looking at buying U.K. startup for $1 billion\"\n",
    "\n"
   ]
  },
  {
   "cell_type": "code",
   "execution_count": 8,
   "metadata": {},
   "outputs": [
    {
     "data": {
      "text/html": [
       "<div>\n",
       "<style scoped>\n",
       "    .dataframe tbody tr th:only-of-type {\n",
       "        vertical-align: middle;\n",
       "    }\n",
       "\n",
       "    .dataframe tbody tr th {\n",
       "        vertical-align: top;\n",
       "    }\n",
       "\n",
       "    .dataframe thead th {\n",
       "        text-align: right;\n",
       "    }\n",
       "</style>\n",
       "<table border=\"1\" class=\"dataframe\">\n",
       "  <thead>\n",
       "    <tr style=\"text-align: right;\">\n",
       "      <th></th>\n",
       "      <th>reviews</th>\n",
       "      <th>tokens</th>\n",
       "      <th>sentiment</th>\n",
       "      <th>named_entities</th>\n",
       "    </tr>\n",
       "  </thead>\n",
       "  <tbody>\n",
       "    <tr>\n",
       "      <th>0</th>\n",
       "      <td>BA cancelled my flight home to Heathrow on Dec...</td>\n",
       "      <td>['cancelled', 'home', 'heathrow', 'dec', '19th...</td>\n",
       "      <td>0</td>\n",
       "      <td>[BA, Heathrow, Dec 19th, Iceland, only 4 hours...</td>\n",
       "    </tr>\n",
       "    <tr>\n",
       "      <th>1</th>\n",
       "      <td>BA cancelled my flight home, the last flight o...</td>\n",
       "      <td>['cancelled', 'home', 'last', 'day', 'heathrow...</td>\n",
       "      <td>0</td>\n",
       "      <td>[BA, the day, Heathrow, London City, 3 hours, ...</td>\n",
       "    </tr>\n",
       "    <tr>\n",
       "      <th>2</th>\n",
       "      <td>Turned up 3.5 hours in advance, Terminal 5 at ...</td>\n",
       "      <td>['turned', '3.5', 'hours', 'advance', 'termina...</td>\n",
       "      <td>0</td>\n",
       "      <td>[3.5 hours, 5, London Heathrow, 100s, only 5, ...</td>\n",
       "    </tr>\n",
       "    <tr>\n",
       "      <th>3</th>\n",
       "      <td>Boarding – at gate at LGW they called Group 1 ...</td>\n",
       "      <td>['boarding', '–', 'gate', 'lgw', 'called', 'gr...</td>\n",
       "      <td>0</td>\n",
       "      <td>[LGW, Group 1, World Traveller Plus &amp; Group, 3...</td>\n",
       "    </tr>\n",
       "    <tr>\n",
       "      <th>4</th>\n",
       "      <td>Missing baggage customer service was the worst...</td>\n",
       "      <td>['missing', 'baggage', 'customer', 'service', ...</td>\n",
       "      <td>0</td>\n",
       "      <td>[Phoenix, Sunday, evening, Monday, three more ...</td>\n",
       "    </tr>\n",
       "  </tbody>\n",
       "</table>\n",
       "</div>"
      ],
      "text/plain": [
       "                                             reviews  \\\n",
       "0  BA cancelled my flight home to Heathrow on Dec...   \n",
       "1  BA cancelled my flight home, the last flight o...   \n",
       "2  Turned up 3.5 hours in advance, Terminal 5 at ...   \n",
       "3  Boarding – at gate at LGW they called Group 1 ...   \n",
       "4  Missing baggage customer service was the worst...   \n",
       "\n",
       "                                              tokens  sentiment  \\\n",
       "0  ['cancelled', 'home', 'heathrow', 'dec', '19th...          0   \n",
       "1  ['cancelled', 'home', 'last', 'day', 'heathrow...          0   \n",
       "2  ['turned', '3.5', 'hours', 'advance', 'termina...          0   \n",
       "3  ['boarding', '–', 'gate', 'lgw', 'called', 'gr...          0   \n",
       "4  ['missing', 'baggage', 'customer', 'service', ...          0   \n",
       "\n",
       "                                      named_entities  \n",
       "0  [BA, Heathrow, Dec 19th, Iceland, only 4 hours...  \n",
       "1  [BA, the day, Heathrow, London City, 3 hours, ...  \n",
       "2  [3.5 hours, 5, London Heathrow, 100s, only 5, ...  \n",
       "3  [LGW, Group 1, World Traveller Plus & Group, 3...  \n",
       "4  [Phoenix, Sunday, evening, Monday, three more ...  "
      ]
     },
     "execution_count": 8,
     "metadata": {},
     "output_type": "execute_result"
    }
   ],
   "source": [
    "def extract_named_entities(text):\n",
    "    doc = nlp(text)\n",
    "    named_entities = []\n",
    "    for ent in doc.ents:\n",
    "        named_entities.append(ent.text)\n",
    "    return named_entities\n",
    "\n",
    "neg_reviews['named_entities'] = neg_reviews['reviews'].apply(extract_named_entities)\n",
    "neg_reviews.head()"
   ]
  },
  {
   "cell_type": "code",
   "execution_count": 11,
   "metadata": {},
   "outputs": [
    {
     "data": {
      "text/html": [
       "<span class=\"tex2jax_ignore\"><div class=\"entities\" style=\"line-height: 2.5; direction: ltr\">\n",
       "<mark class=\"entity\" style=\"background: #7aecec; padding: 0.45em 0.6em; margin: 0 0.25em; line-height: 1; border-radius: 0.35em;\">\n",
       "    BA\n",
       "    <span style=\"font-size: 0.8em; font-weight: bold; line-height: 1; border-radius: 0.35em; vertical-align: middle; margin-left: 0.5rem\">ORG</span>\n",
       "</mark>\n",
       " cancelled my flight home to \n",
       "<mark class=\"entity\" style=\"background: #9cc9cc; padding: 0.45em 0.6em; margin: 0 0.25em; line-height: 1; border-radius: 0.35em;\">\n",
       "    Heathrow\n",
       "    <span style=\"font-size: 0.8em; font-weight: bold; line-height: 1; border-radius: 0.35em; vertical-align: middle; margin-left: 0.5rem\">FAC</span>\n",
       "</mark>\n",
       " on \n",
       "<mark class=\"entity\" style=\"background: #bfe1d9; padding: 0.45em 0.6em; margin: 0 0.25em; line-height: 1; border-radius: 0.35em;\">\n",
       "    Dec 19th\n",
       "    <span style=\"font-size: 0.8em; font-weight: bold; line-height: 1; border-radius: 0.35em; vertical-align: middle; margin-left: 0.5rem\">DATE</span>\n",
       "</mark>\n",
       ". On the face of it, that was sensible as the weather in \n",
       "<mark class=\"entity\" style=\"background: #feca74; padding: 0.45em 0.6em; margin: 0 0.25em; line-height: 1; border-radius: 0.35em;\">\n",
       "    Iceland\n",
       "    <span style=\"font-size: 0.8em; font-weight: bold; line-height: 1; border-radius: 0.35em; vertical-align: middle; margin-left: 0.5rem\">GPE</span>\n",
       "</mark>\n",
       " was appalling. However, what was not acceptable was that the flight was cancelled \n",
       "<mark class=\"entity\" style=\"background: #bfe1d9; padding: 0.45em 0.6em; margin: 0 0.25em; line-height: 1; border-radius: 0.35em;\">\n",
       "    only 4 hours\n",
       "    <span style=\"font-size: 0.8em; font-weight: bold; line-height: 1; border-radius: 0.35em; vertical-align: middle; margin-left: 0.5rem\">TIME</span>\n",
       "</mark>\n",
       " before take off time by which time I was already struggling through dreadful driving conditions to get to the airport. I got nowhere near before the conditions became too bad. If they had taken advice they would have spared everyone the need to try and travel on roads that all ended up closed. I am now booked onto the flight on \n",
       "<mark class=\"entity\" style=\"background: #bfe1d9; padding: 0.45em 0.6em; margin: 0 0.25em; line-height: 1; border-radius: 0.35em;\">\n",
       "    the 21st\n",
       "    <span style=\"font-size: 0.8em; font-weight: bold; line-height: 1; border-radius: 0.35em; vertical-align: middle; margin-left: 0.5rem\">DATE</span>\n",
       "</mark>\n",
       " and downgraded for my sins. Having checked \n",
       "<mark class=\"entity\" style=\"background: #bfe1d9; padding: 0.45em 0.6em; margin: 0 0.25em; line-height: 1; border-radius: 0.35em;\">\n",
       "    today\n",
       "    <span style=\"font-size: 0.8em; font-weight: bold; line-height: 1; border-radius: 0.35em; vertical-align: middle; margin-left: 0.5rem\">DATE</span>\n",
       "</mark>\n",
       ", as I type they have not cancelled the flight on \n",
       "<mark class=\"entity\" style=\"background: #bfe1d9; padding: 0.45em 0.6em; margin: 0 0.25em; line-height: 1; border-radius: 0.35em;\">\n",
       "    the 20th\n",
       "    <span style=\"font-size: 0.8em; font-weight: bold; line-height: 1; border-radius: 0.35em; vertical-align: middle; margin-left: 0.5rem\">DATE</span>\n",
       "</mark>\n",
       " despite the road to \n",
       "<mark class=\"entity\" style=\"background: #feca74; padding: 0.45em 0.6em; margin: 0 0.25em; line-height: 1; border-radius: 0.35em;\">\n",
       "    Keflavík\n",
       "    <span style=\"font-size: 0.8em; font-weight: bold; line-height: 1; border-radius: 0.35em; vertical-align: middle; margin-left: 0.5rem\">GPE</span>\n",
       "</mark>\n",
       " being closed! Do they not check these things? Any help from BA offered - not really.</div></span>"
      ],
      "text/plain": [
       "<IPython.core.display.HTML object>"
      ]
     },
     "metadata": {},
     "output_type": "display_data"
    }
   ],
   "source": [
    "# Process the first review\n",
    "doc = nlp(neg_reviews['reviews'][0])\n",
    "displacy.render(doc, style=\"ent\", jupyter=True)"
   ]
  },
  {
   "cell_type": "markdown",
   "metadata": {},
   "source": []
  }
 ],
 "metadata": {
  "kernelspec": {
   "display_name": "env_pytorch",
   "language": "python",
   "name": "python3"
  },
  "language_info": {
   "codemirror_mode": {
    "name": "ipython",
    "version": 3
   },
   "file_extension": ".py",
   "mimetype": "text/x-python",
   "name": "python",
   "nbconvert_exporter": "python",
   "pygments_lexer": "ipython3",
   "version": "3.10.4"
  },
  "orig_nbformat": 4
 },
 "nbformat": 4,
 "nbformat_minor": 2
}
